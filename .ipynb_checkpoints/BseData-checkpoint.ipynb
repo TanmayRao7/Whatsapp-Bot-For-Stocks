{
 "cells": [
  {
   "cell_type": "code",
   "execution_count": 1,
   "id": "68c2d80a",
   "metadata": {},
   "outputs": [],
   "source": [
    "from bsedata.bse import BSE"
   ]
  },
  {
   "cell_type": "code",
   "execution_count": 2,
   "id": "73ca9830",
   "metadata": {},
   "outputs": [],
   "source": [
    "b = BSE()"
   ]
  },
  {
   "cell_type": "code",
   "execution_count": 6,
   "id": "f6adb279",
   "metadata": {},
   "outputs": [
    {
     "data": {
      "text/plain": [
       "{'companyName': 'V-MART RETAIL LTD.',\n",
       " 'currentValue': '2765.30',\n",
       " 'change': '-37.95',\n",
       " 'pChange': '-1.35',\n",
       " 'updatedOn': '14 Oct 22 | 04:00 PM',\n",
       " 'priceBand': '',\n",
       " 'securityID': 'VMART',\n",
       " 'scripCode': '534976',\n",
       " 'group': 'A  / S&P BSE 500',\n",
       " 'faceValue': '10.00',\n",
       " 'industry': 'Consumer Services',\n",
       " 'previousClose': '2803.25',\n",
       " 'previousOpen': '2815.30',\n",
       " 'dayHigh': '2846.35',\n",
       " 'dayLow': '2745.10',\n",
       " '52weekHigh': '4620.00',\n",
       " '52weekLow': '2406.00',\n",
       " 'weightedAvgPrice': '2802.88',\n",
       " 'totalTradedValue': '0.23 Cr.',\n",
       " 'totalTradedQuantity': '0.01 Lakh',\n",
       " '2WeekAvgQuantity': '0.01 Lakh',\n",
       " 'marketCapFull': '5,466.55 Cr.',\n",
       " 'marketCapFreeFloat': '2,951.94 Cr.',\n",
       " 'upperPriceBand': '',\n",
       " 'lowerPriceBand': '',\n",
       " 'buy': {'1': {'quantity': '-', 'price': '0.00'},\n",
       "  '2': {'quantity': '-', 'price': '0.00'},\n",
       "  '3': {'quantity': '-', 'price': '0.00'},\n",
       "  '4': {'quantity': '-', 'price': '0.00'},\n",
       "  '5': {'quantity': '-', 'price': '0.00'}},\n",
       " 'sell': {'1': {'price': '0.00', 'quantity': '-'},\n",
       "  '2': {'price': '0.00', 'quantity': '-'},\n",
       "  '3': {'price': '0.00', 'quantity': '-'},\n",
       "  '4': {'price': '0.00', 'quantity': '-'},\n",
       "  '5': {'price': '0.00', 'quantity': '-'}}}"
      ]
     },
     "execution_count": 6,
     "metadata": {},
     "output_type": "execute_result"
    }
   ],
   "source": [
    "# Get Quoate of a particular company\n",
    "q = b.getQuote('534976')\n",
    "q"
   ]
  },
  {
   "cell_type": "code",
   "execution_count": 7,
   "id": "e3e062e5",
   "metadata": {},
   "outputs": [
    {
     "data": {
      "text/plain": [
       "[{'securityID': 'CAMLINFINE',\n",
       "  'scripCode': '532834',\n",
       "  'LTP': '130.30',\n",
       "  'change': '17.15',\n",
       "  'pChange': '15.16'},\n",
       " {'securityID': 'HINDOILEXP',\n",
       "  'scripCode': '500186',\n",
       "  'LTP': '152.30',\n",
       "  'change': '17.85',\n",
       "  'pChange': '13.28'},\n",
       " {'securityID': 'BCG',\n",
       "  'scripCode': '532368',\n",
       "  'LTP': '40.45',\n",
       "  'change': '4.15',\n",
       "  'pChange': '11.43'},\n",
       " {'securityID': 'IFBIND',\n",
       "  'scripCode': '505726',\n",
       "  'LTP': '982.25',\n",
       "  'change': '97.45',\n",
       "  'pChange': '11.01'},\n",
       " {'securityID': 'IIFLSEC',\n",
       "  'scripCode': '542773',\n",
       "  'LTP': '70.25',\n",
       "  'change': '4.20',\n",
       "  'pChange': '6.36'}]"
      ]
     },
     "execution_count": 7,
     "metadata": {},
     "output_type": "execute_result"
    }
   ],
   "source": [
    "# Get Top Gainers\n",
    "b.topGainers()"
   ]
  },
  {
   "cell_type": "code",
   "execution_count": 8,
   "id": "44914b84",
   "metadata": {},
   "outputs": [
    {
     "data": {
      "text/plain": [
       "[{'securityID': 'JPASSOCIAT',\n",
       "  'scripCode': '532532',\n",
       "  'LTP': '10.56',\n",
       "  'change': '-0.83',\n",
       "  'pChange': '-7.29'},\n",
       " {'securityID': 'RAYMOND',\n",
       "  'scripCode': '500330',\n",
       "  'LTP': '1,156.55',\n",
       "  'change': '-76.90',\n",
       "  'pChange': '-6.23'},\n",
       " {'securityID': 'KIRLOSENG',\n",
       "  'scripCode': '533293',\n",
       "  'LTP': '272.00',\n",
       "  'change': '-11.80',\n",
       "  'pChange': '-4.16'},\n",
       " {'securityID': 'COCHINSHIP',\n",
       "  'scripCode': '540678',\n",
       "  'LTP': '521.00',\n",
       "  'change': '-21.40',\n",
       "  'pChange': '-3.95'},\n",
       " {'securityID': 'VBL',\n",
       "  'scripCode': '540180',\n",
       "  'LTP': '1,027.70',\n",
       "  'change': '-40.95',\n",
       "  'pChange': '-3.83'}]"
      ]
     },
     "execution_count": 8,
     "metadata": {},
     "output_type": "execute_result"
    }
   ],
   "source": [
    "# Get Top Losers\n",
    "b.topLosers()"
   ]
  },
  {
   "cell_type": "code",
   "execution_count": 9,
   "id": "7cf8b8e9",
   "metadata": {},
   "outputs": [],
   "source": [
    "#https://pypi.org/project/bsetools/"
   ]
  }
 ],
 "metadata": {
  "kernelspec": {
   "display_name": "Python 3 (ipykernel)",
   "language": "python",
   "name": "python3"
  },
  "language_info": {
   "codemirror_mode": {
    "name": "ipython",
    "version": 3
   },
   "file_extension": ".py",
   "mimetype": "text/x-python",
   "name": "python",
   "nbconvert_exporter": "python",
   "pygments_lexer": "ipython3",
   "version": "3.9.13"
  }
 },
 "nbformat": 4,
 "nbformat_minor": 5
}
